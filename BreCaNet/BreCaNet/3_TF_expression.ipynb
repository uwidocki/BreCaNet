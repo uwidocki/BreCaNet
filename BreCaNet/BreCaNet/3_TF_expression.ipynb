{
 "cells": [
  {
   "cell_type": "markdown",
   "metadata": {},
   "source": [
    "## Making TF expression"
   ]
  },
  {
   "cell_type": "code",
   "execution_count": 1,
   "metadata": {},
   "outputs": [],
   "source": [
    "import pandas as pd\n",
    "import numpy as np\n"
   ]
  },
  {
   "cell_type": "code",
   "execution_count": 78,
   "metadata": {},
   "outputs": [
    {
     "data": {
      "text/plain": [
       "TCGA-A2-A0EM    76878868.0\n",
       "TCGA-A2-A0T6    79329288.0\n",
       "TCGA-BH-A0B7    51883282.0\n",
       "TCGA-EW-A1P4    76668439.0\n",
       "TCGA-E2-A3DX    63504547.0\n",
       "                   ...    \n",
       "TCGA-D8-A1X5           0.0\n",
       "TCGA-B6-A1KF           0.0\n",
       "TCGA-D8-A1XD           0.0\n",
       "TCGA-BH-A201           0.0\n",
       "TCGA-A2-A0EO           0.0\n",
       "Length: 714, dtype: float64"
      ]
     },
     "execution_count": 78,
     "metadata": {},
     "output_type": "execute_result"
    }
   ],
   "source": [
    "# read in the raw expression data\n",
    "\n",
    "HTSeq_path = '/Users/ursulawidocki/Desktop/BreCaNet/Data/PANDAinput/all_exp_HTSeq.txt'\n",
    "TF_exp = pd.read_csv(HTSeq_path, delimiter = \"\\t\")\n",
    "TF_exp.head()\n",
    "\n",
    "TF_exp.sum(axis = 0)"
   ]
  },
  {
   "cell_type": "code",
   "execution_count": null,
   "metadata": {},
   "outputs": [],
   "source": [
    "# read in TFBM\n",
    "\n",
    "# read in genenames.txt "
   ]
  },
  {
   "cell_type": "code",
   "execution_count": null,
   "metadata": {},
   "outputs": [],
   "source": []
  },
  {
   "cell_type": "raw",
   "metadata": {},
   "source": [
    "# Limitation\n",
    "\n",
    "not all genes that code for TFs have the same name"
   ]
  },
  {
   "cell_type": "markdown",
   "metadata": {},
   "source": [
    "######################################\n",
    "\n",
    "# Old Code"
   ]
  },
  {
   "cell_type": "raw",
   "metadata": {},
   "source": [
    "## PANDA output paths\n",
    "lumA_panda_path = \"/Users/ursulawidocki/Desktop/BreCaNet/Data/PANDAoutput/output_panda_lumA.txt\"\n",
    "lumB_panda_path = \"/Users/ursulawidocki/Desktop/BreCaNet/Data/PANDAoutput/output_panda_lumB.txt\"\n",
    "basal_panda_path = \"/Users/ursulawidocki/Desktop/BreCaNet/Data/PANDAoutput/output_panda_basal.txt\"\n",
    "her2_panda_path = \"/Users/ursulawidocki/Desktop/BreCaNet/Data/PANDAoutput/output_panda_her2.txt\"\n",
    "norm_panda_path = \"/Users/ursulawidocki/Desktop/BreCaNet/Data/PANDAoutput/output_panda_norm.txt\""
   ]
  },
  {
   "cell_type": "raw",
   "metadata": {},
   "source": [
    "## Reads in networks\n",
    "\n",
    "# Luminal A network\n",
    "G_lumA_df = pd.read_csv(lumA_panda_path, delimiter = \" \", names = [\"TF\", \"gene\", \"prior\", \"weight\"])\n",
    "TF_lumA = G_lumA_df[[\"TF\", \"gene\", \"prior\"]]\n",
    "\n",
    "# Luminal B network\n",
    "G_lumB_df = pd.read_csv(lumB_panda_path, delimiter = \" \", names = [\"TF\", \"gene\", \"prior\", \"weight\"])\n",
    "TF_lumB = G_lumB_df[[\"TF\", \"gene\", \"prior\"]]\n",
    "\n",
    "# Basal network\n",
    "G_basal_df = pd.read_csv(basal_panda_path, delimiter = \" \", names = [\"TF\", \"gene\", \"prior\", \"weight\"])\n",
    "TF_basal = G_basal_df[[\"TF\", \"gene\", \"prior\"]]\n",
    "\n",
    "# HER2 network\n",
    "G_her2_df = pd.read_csv(her2_panda_path, delimiter = \" \", names = [\"TF\", \"gene\", \"prior\", \"weight\"])\n",
    "TF_her2 = G_her2_df[[\"TF\", \"gene\", \"prior\"]]\n",
    "\n",
    "# Normal network\n",
    "G_norm_df = pd.read_csv(norm_panda_path, delimiter = \" \", names = [\"TF\", \"gene\", \"prior\", \"weight\"])\n",
    "TF_norm = G_norm_df[[\"TF\", \"gene\", \"prior\"]]\n",
    "\n"
   ]
  },
  {
   "cell_type": "raw",
   "metadata": {},
   "source": [
    "## Initiates TF data frame\n",
    "\n",
    "column_names = [\"TF\", \"LumA\", \"LumB\", \"Basal\", \"HER2\", \"Norm\"]\n",
    "TF_df = pd.DataFrame(columns = column_names)\n",
    "TF_set = set(G_lumA_df[\"TF\"])\n",
    "\n",
    "TF_df[\"TF\"] = list(TF_set)\n",
    "TF_df[\"LumA\"] = [0] * TF_df.shape[0]\n",
    "TF_df[\"LumB\"] = [0] * TF_df.shape[0]\n",
    "TF_df[\"Basal\"] = [0] * TF_df.shape[0]\n",
    "TF_df[\"HER2\"] = [0] * TF_df.shape[0]\n",
    "TF_df[\"Norm\"] = [0] * TF_df.shape[0]\n",
    "TF_df.index = list(TF_set)\n",
    "TF_df.head()\n"
   ]
  },
  {
   "cell_type": "raw",
   "metadata": {},
   "source": [
    "def getIndeces(listOfElements, element):\n",
    "    indexPosList = []\n",
    "    indexPos = 0\n",
    "    while True:\n",
    "        try:\n",
    "            # Search for item in list from indexPos to the end of list\n",
    "            indexPos = listOfElements.index(element, indexPos)\n",
    "            # Add the index position in list\n",
    "            indexPosList.append(indexPos)\n",
    "            indexPos += 1\n",
    "        except ValueError as e:\n",
    "            break\n",
    " \n",
    "    return indexPosList"
   ]
  },
  {
   "cell_type": "raw",
   "metadata": {},
   "source": [
    "## Gets TF prior info and adds to TF_df\n",
    "\n",
    "for TF in list(TF_df[\"TF\"]):\n",
    "    indeces = getIndeces(list(TF_lumA[\"TF\"]), TF)\n",
    "    s = 0\n",
    "    for ind in indeces:\n",
    "        s = s + TF_lumA[\"prior\"][ind]\n",
    "    \n",
    "    tf = list(TF_df[\"TF\"])\n",
    "    tf_ind = tf.index(TF)\n",
    "    TF_df[\"LumA\"][TF] = s\n",
    "\n",
    "TF_df.head()"
   ]
  },
  {
   "cell_type": "raw",
   "metadata": {},
   "source": [
    "for TF in list(TF_df[\"TF\"]):\n",
    "    indeces = getIndeces(list(TF_lumB[\"TF\"]), TF)\n",
    "    s = 0\n",
    "    for ind in indeces:\n",
    "        s = s + TF_lumB[\"prior\"][ind]\n",
    "    \n",
    "    tf = list(TF_df[\"TF\"])\n",
    "    tf_ind = tf.index(TF)\n",
    "    TF_df[\"LumB\"][TF] = s"
   ]
  },
  {
   "cell_type": "raw",
   "metadata": {},
   "source": [
    "for TF in list(TF_df[\"TF\"]):\n",
    "    indeces = getIndeces(list(TF_basal[\"TF\"]), TF)\n",
    "    s = 0\n",
    "    for ind in indeces:\n",
    "        s = s + TF_basal[\"prior\"][ind]\n",
    "    \n",
    "    tf = list(TF_df[\"TF\"])\n",
    "    TF_df[\"Basal\"][TF] = s\n",
    "    \n",
    "TF_df.head()"
   ]
  },
  {
   "cell_type": "raw",
   "metadata": {},
   "source": [
    "for TF in list(TF_df[\"TF\"]):\n",
    "    indeces = getIndeces(list(TF_her2[\"TF\"]), TF)\n",
    "    s = 0\n",
    "    for ind in indeces:\n",
    "        s = s + TF_her2[\"prior\"][ind]\n",
    "    \n",
    "    tf = list(TF_df[\"TF\"])\n",
    "    TF_df[\"HER2\"][TF] = s\n",
    "    \n",
    "TF_df.head()"
   ]
  },
  {
   "cell_type": "raw",
   "metadata": {},
   "source": [
    "for TF in list(TF_df[\"TF\"]):\n",
    "    indeces = getIndeces(list(TF_norm[\"TF\"]), TF)\n",
    "    s = 0\n",
    "    for ind in indeces:\n",
    "        s = s + TF_norm[\"prior\"][ind]\n",
    "    \n",
    "    tf = list(TF_df[\"TF\"])\n",
    "    TF_df[\"Norm\"][TF] = s\n",
    "    \n",
    "TF_df.head()"
   ]
  },
  {
   "cell_type": "raw",
   "metadata": {},
   "source": [
    "TF_df.to_csv('/Users/ursulawidocki/Desktop/BreCaNet/Data/TF_info.txt', sep='\\t')"
   ]
  },
  {
   "cell_type": "code",
   "execution_count": null,
   "metadata": {},
   "outputs": [],
   "source": []
  }
 ],
 "metadata": {
  "kernelspec": {
   "display_name": "Python 3",
   "language": "python",
   "name": "python3"
  },
  "language_info": {
   "codemirror_mode": {
    "name": "ipython",
    "version": 3
   },
   "file_extension": ".py",
   "mimetype": "text/x-python",
   "name": "python",
   "nbconvert_exporter": "python",
   "pygments_lexer": "ipython3",
   "version": "3.7.4"
  }
 },
 "nbformat": 4,
 "nbformat_minor": 4
}
