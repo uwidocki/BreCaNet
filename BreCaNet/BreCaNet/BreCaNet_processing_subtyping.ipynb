{
 "cells": [
  {
   "cell_type": "code",
   "execution_count": 1,
   "metadata": {},
   "outputs": [],
   "source": [
    "import numpy as np\n",
    "import os\n",
    "import shutil\n",
    "import csv\n",
    "import pandas as pd\n",
    "import gzip"
   ]
  },
  {
   "cell_type": "code",
   "execution_count": 2,
   "metadata": {},
   "outputs": [],
   "source": [
    "# gene expression paths\n",
    "dataPath = '/Users/ursulawidocki/Desktop/BreCaNet/Data/gdc_download_FPKM_832' #zipped file path\n",
    "dataNewFolder = '/Users/ursulawidocki/Desktop/BreCaNet/Data/processedTCGA_832' # folder for unzipped\n",
    "#PANDAexpPath = '/Users/ursulawidocki/Desktop/BreCaNet/Data/PANDAinput/PANDAgeneExp_832.txt' # final exp file"
   ]
  },
  {
   "cell_type": "code",
   "execution_count": 3,
   "metadata": {},
   "outputs": [],
   "source": [
    "# Unzips the expression data dn creates a folder (processedTCGA_832) of the unzipped files \n",
    "# Gets the codes of the patient folders and expression files\n",
    "\n",
    "folderIDs = list() # codes of the patient IDs on the folder\n",
    "indivList = list() # codes of the patients' expression file\n",
    "\n",
    "for fileName in os.listdir(dataPath):\n",
    "    if fileName == '.DS_Store' or fileName == 'MANIFEST.txt':\n",
    "        continue\n",
    "        \n",
    "    else:\n",
    "        folderIDs.append(fileName)\n",
    "        \n",
    "    newPath = dataPath + '/' + fileName\n",
    "    \n",
    "    # goes into the individual folder\n",
    "    for indivName in os.listdir(newPath):\n",
    "        if (indivName == '.DS_Store') or (indivName == 'MANIFEST.txt') or (indivName == 'annotations.txt'):\n",
    "            continue\n",
    "        filePath = newPath + '/' + indivName\n",
    "        \n",
    "        fileEnding = indivName[-3] + indivName[-2] + indivName[-1]\n",
    "        if(fileEnding == '.gz'):\n",
    "            with gzip.open(filePath, 'rb') as f_in:\n",
    "                newFilePath = dataNewFolder + '/' + indivName[0:-3]\n",
    "                indivList.append(indivName[0:-3])\n",
    "                \n",
    "                with open(newFilePath, 'wb') as f_out:\n",
    "                    shutil.copyfileobj(f_in, f_out)"
   ]
  },
  {
   "cell_type": "code",
   "execution_count": 4,
   "metadata": {},
   "outputs": [],
   "source": [
    "## Makes file of folder names\n",
    "\n",
    "folderIDPath = '/Users/ursulawidocki/Desktop/BreCaNet/Data/foldIDList_FPKM_832.txt'\n",
    "folderFile = open(folderIDPath, \"w+\")\n",
    "for i in range(0, 832):\n",
    "    newLineFolder = folderIDs[i] + \"\\n\"\n",
    "    \n",
    "    folderFile.write(newLineFolder)\n",
    "    \n",
    "folderFile.close()"
   ]
  },
  {
   "cell_type": "code",
   "execution_count": 10,
   "metadata": {},
   "outputs": [],
   "source": [
    "## Gets folder codes from expression data\n",
    "folderIDPath = '/Users/ursulawidocki/Desktop/BreCaNet/Data/foldIDList_FPKM_832.txt'\n",
    "folders = pd.read_csv(folderIDPath, delimiter = '\\t', header = None)\n",
    "folders_list = list(folders[0])"
   ]
  },
  {
   "cell_type": "code",
   "execution_count": 5,
   "metadata": {},
   "outputs": [
    {
     "name": "stdout",
     "output_type": "stream",
     "text": [
      "832\n",
      "832\n"
     ]
    }
   ],
   "source": [
    "## Gets file_id and case_id\n",
    "\n",
    "metaPath = '/Users/ursulawidocki/Desktop/BreCaNet/Data/metadata.cart.FPKM_832.json'\n",
    "\n",
    "file_id = list()\n",
    "f = 0\n",
    "case_id = list()\n",
    "c = 0\n",
    "with open(metaPath, \"r\") as file:\n",
    "    for line in file.readlines():\n",
    "        \n",
    "        if \"file_id\" in line:\n",
    "            item = line.strip().split(\"\\\"\")[3]\n",
    "            f = f + 1\n",
    "            \n",
    "            if(f%2 == 0):\n",
    "                file_id.append(item)\n",
    "                \n",
    "        if(\"case_id\" in line) and (f%2 == 0):\n",
    "            case = line.strip().split(\"\\\"\")[3]\n",
    "            c = c + 1\n",
    "            case_id.append(case)\n",
    "\n",
    "print(len(file_id))\n",
    "print(len(case_id))\n",
    "#print(case_id[0:5])"
   ]
  },
  {
   "cell_type": "code",
   "execution_count": 7,
   "metadata": {},
   "outputs": [
    {
     "name": "stdout",
     "output_type": "stream",
     "text": [
      "1087\n",
      "1087\n"
     ]
    }
   ],
   "source": [
    "## Reads in PAM50 labels\n",
    "\n",
    "subtype_path = \"/Users/ursulawidocki/Desktop/BreCaNet/Code/TCGA_subtypes.txt\"\n",
    "subtypes = pd.read_csv(subtype_path, delimiter = \" \")\n",
    "subtypes.head()\n",
    "\n",
    "pt_barcodes_list = list(subtypes['brca_subtypes.patient'])\n",
    "subtype_list = list(subtypes['brca_subtypes.BRCA_Subtype_PAM50'])\n",
    "\n",
    "print(len(pt_barcodes_list))\n",
    "print(len(subtype_list))"
   ]
  },
  {
   "cell_type": "code",
   "execution_count": 8,
   "metadata": {},
   "outputs": [
    {
     "name": "stdout",
     "output_type": "stream",
     "text": [
      "1097\n",
      "1097\n"
     ]
    }
   ],
   "source": [
    "## Gets uuid and barcodes of the patients from clinical data\n",
    "\n",
    "# reads in clinical information to link patients with their barcode\n",
    "clinicalPath = '/Users/ursulawidocki/Desktop/BreCaNet/Data/gdc_download_clinical_832/8162d394-8b64-4da2-9f5b-d164c54b9608/nationwidechildrens.org_clinical_patient_brca.txt'\n",
    "clinical_df = pd.read_csv(clinicalPath, delimiter = '\\t')\n",
    "\n",
    "# removes rows that are not necessary to match data\n",
    "clinical_df = clinical_df.drop(clinical_df.index[0])\n",
    "clinical_df = clinical_df.drop(clinical_df.index[0])\n",
    "clinical_df.head()\n",
    "codes_df = clinical_df[['bcr_patient_uuid', 'bcr_patient_barcode']]\n",
    "#codes_df.head()\n",
    "\n",
    "uuid_list = list(codes_df['bcr_patient_uuid'])\n",
    "barcode_list = list(codes_df['bcr_patient_barcode'])\n",
    "\n",
    "print(len(uuid_list))\n",
    "print(len(barcode_list))"
   ]
  },
  {
   "cell_type": "markdown",
   "metadata": {},
   "source": [
    "### Matching"
   ]
  },
  {
   "cell_type": "code",
   "execution_count": 11,
   "metadata": {},
   "outputs": [
    {
     "name": "stdout",
     "output_type": "stream",
     "text": [
      "832\n"
     ]
    }
   ],
   "source": [
    "## First, match the folder with the file_ids to get the corresponding cases from the metadata\n",
    "\n",
    "match_cases = list()\n",
    "\n",
    "for folder in folders_list:\n",
    "    for file in file_id:\n",
    "        if folder == file:\n",
    "            ind = file_id.index(file)\n",
    "            match_cases.append(case_id[ind])\n",
    "            break\n",
    "\n",
    "print(len(match_cases)) # should be equivalent to number of samples"
   ]
  },
  {
   "cell_type": "code",
   "execution_count": null,
   "metadata": {},
   "outputs": [],
   "source": [
    "# Deletes variables no longer needed to save memory\n"
   ]
  },
  {
   "cell_type": "code",
   "execution_count": 12,
   "metadata": {},
   "outputs": [
    {
     "name": "stdout",
     "output_type": "stream",
     "text": [
      "832\n"
     ]
    }
   ],
   "source": [
    "## Matches case_ids from metadata with uuid and patient barcodes from clinical data\n",
    "\n",
    "match_barcodes = list()\n",
    "\n",
    "for case in match_cases:\n",
    "    for ptID in uuid_list:\n",
    "        if case == ptID.lower():\n",
    "            ind = uuid_list.index(ptID)\n",
    "            match_barcodes.append(barcode_list[ind])\n",
    "            break\n",
    "            \n",
    "print(len(match_barcodes))"
   ]
  },
  {
   "cell_type": "code",
   "execution_count": null,
   "metadata": {},
   "outputs": [],
   "source": []
  }
 ],
 "metadata": {
  "kernelspec": {
   "display_name": "Python 3",
   "language": "python",
   "name": "python3"
  },
  "language_info": {
   "codemirror_mode": {
    "name": "ipython",
    "version": 3
   },
   "file_extension": ".py",
   "mimetype": "text/x-python",
   "name": "python",
   "nbconvert_exporter": "python",
   "pygments_lexer": "ipython3",
   "version": "3.7.4"
  }
 },
 "nbformat": 4,
 "nbformat_minor": 2
}
